{
 "cells": [
  {
   "cell_type": "markdown",
   "metadata": {},
   "source": [
    "**Data Ingestion Steps:**\n",
    "\n",
    "Any kind of data text file, csv file or the database file it can be connected to the LLM using LangChain. "
   ]
  },
  {
   "cell_type": "code",
   "execution_count": 4,
   "metadata": {},
   "outputs": [
    {
     "data": {
      "text/plain": [
       "[Document(metadata={'source': 'sample.txt'}, page_content='\"Arise! Awake! And stop not till the goal is reached.\\n\\nMy dear young friends, you have the power within you to shape your destiny. Strength is life, weakness is death. Have faith in yourselves! Believe that nothing is impossible.\\n\\nTake risks in life. If you win, you can lead; if you lose, you can guide. The world needs fearless souls—be strong, be pure, and work tirelessly for a noble cause.\\n\\nEducation is not just about gathering information but about building character. Stand up, be bold, and be the change you wish to see. Serve others selflessly, for service to humanity is the highest religion.\\n\\nThe future belongs to those who dare to dream and work hard for it. So, arise, awake, and make your life great!\"')]"
      ]
     },
     "execution_count": 4,
     "metadata": {},
     "output_type": "execute_result"
    }
   ],
   "source": [
    "from langchain_community.document_loaders import TextLoader\n",
    "loader = TextLoader('sample.txt')\n",
    "text_documets = loader.load()\n",
    "text_documets"
   ]
  },
  {
   "cell_type": "code",
   "execution_count": 8,
   "metadata": {},
   "outputs": [],
   "source": [
    "# Setting and loading the API key \n",
    "import os \n",
    "from dotenv import load_dotenv \n",
    "load_dotenv()\n",
    "\n",
    "os.environ[\"OPENAI_API_KEY\"] = os.getenv(\"OPENAI_API_KEY\")"
   ]
  },
  {
   "cell_type": "code",
   "execution_count": null,
   "metadata": {},
   "outputs": [],
   "source": []
  }
 ],
 "metadata": {
  "kernelspec": {
   "display_name": "rag_pro",
   "language": "python",
   "name": "python3"
  },
  "language_info": {
   "codemirror_mode": {
    "name": "ipython",
    "version": 3
   },
   "file_extension": ".py",
   "mimetype": "text/x-python",
   "name": "python",
   "nbconvert_exporter": "python",
   "pygments_lexer": "ipython3",
   "version": "3.10.0"
  }
 },
 "nbformat": 4,
 "nbformat_minor": 2
}
